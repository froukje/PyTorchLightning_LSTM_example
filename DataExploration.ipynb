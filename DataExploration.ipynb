{
 "cells": [
  {
   "cell_type": "markdown",
   "metadata": {},
   "source": [
    "Source: https://www.kaggle.com/tartakovsky/pytorch-lightning-lstm-timeseries-clean-code\n",
    "\n",
    "Data: https://www.kaggle.com/uciml/electric-power-consumption-data-set"
   ]
  },
  {
   "cell_type": "markdown",
   "metadata": {},
   "source": [
    "# Setup"
   ]
  },
  {
   "cell_type": "code",
   "execution_count": 1,
   "metadata": {},
   "outputs": [],
   "source": [
    "import pandas as pd\n",
    "import numpy as np\n",
    "\n",
    "from sklearn.model_selection import train_test_split\n",
    "from sklearn.preprocessing import StandardScaler"
   ]
  },
  {
   "cell_type": "markdown",
   "metadata": {},
   "source": [
    "# Read Data"
   ]
  },
  {
   "cell_type": "code",
   "execution_count": 2,
   "metadata": {},
   "outputs": [
    {
     "name": "stderr",
     "output_type": "stream",
     "text": [
      "/home/frauke/anaconda3/envs/lightning_env/lib/python3.7/site-packages/IPython/core/interactiveshell.py:2714: DtypeWarning: Columns (2,3,4,5,6,7) have mixed types.Specify dtype option on import or set low_memory=False.\n",
      "  interactivity=interactivity, compiler=compiler, result=result)\n"
     ]
    },
    {
     "name": "stdout",
     "output_type": "stream",
     "text": [
      "Global_active_power       object\n",
      "Global_reactive_power     object\n",
      "Voltage                   object\n",
      "Global_intensity          object\n",
      "Sub_metering_1            object\n",
      "Sub_metering_2            object\n",
      "Sub_metering_3           float64\n",
      "dtype: object\n"
     ]
    },
    {
     "data": {
      "text/html": [
       "<div>\n",
       "<style scoped>\n",
       "    .dataframe tbody tr th:only-of-type {\n",
       "        vertical-align: middle;\n",
       "    }\n",
       "\n",
       "    .dataframe tbody tr th {\n",
       "        vertical-align: top;\n",
       "    }\n",
       "\n",
       "    .dataframe thead th {\n",
       "        text-align: right;\n",
       "    }\n",
       "</style>\n",
       "<table border=\"1\" class=\"dataframe\">\n",
       "  <thead>\n",
       "    <tr style=\"text-align: right;\">\n",
       "      <th></th>\n",
       "      <th>Global_active_power</th>\n",
       "      <th>Global_reactive_power</th>\n",
       "      <th>Voltage</th>\n",
       "      <th>Global_intensity</th>\n",
       "      <th>Sub_metering_1</th>\n",
       "      <th>Sub_metering_2</th>\n",
       "      <th>Sub_metering_3</th>\n",
       "    </tr>\n",
       "    <tr>\n",
       "      <th>date</th>\n",
       "      <th></th>\n",
       "      <th></th>\n",
       "      <th></th>\n",
       "      <th></th>\n",
       "      <th></th>\n",
       "      <th></th>\n",
       "      <th></th>\n",
       "    </tr>\n",
       "  </thead>\n",
       "  <tbody>\n",
       "    <tr>\n",
       "      <th>2006-12-16 17:24:00</th>\n",
       "      <td>4.216</td>\n",
       "      <td>0.418</td>\n",
       "      <td>234.84</td>\n",
       "      <td>18.4</td>\n",
       "      <td>0.0</td>\n",
       "      <td>1.0</td>\n",
       "      <td>17.0</td>\n",
       "    </tr>\n",
       "    <tr>\n",
       "      <th>2006-12-16 17:25:00</th>\n",
       "      <td>5.360</td>\n",
       "      <td>0.436</td>\n",
       "      <td>233.63</td>\n",
       "      <td>23.0</td>\n",
       "      <td>0.0</td>\n",
       "      <td>1.0</td>\n",
       "      <td>16.0</td>\n",
       "    </tr>\n",
       "    <tr>\n",
       "      <th>2006-12-16 17:26:00</th>\n",
       "      <td>5.374</td>\n",
       "      <td>0.498</td>\n",
       "      <td>233.29</td>\n",
       "      <td>23.0</td>\n",
       "      <td>0.0</td>\n",
       "      <td>2.0</td>\n",
       "      <td>17.0</td>\n",
       "    </tr>\n",
       "    <tr>\n",
       "      <th>2006-12-16 17:27:00</th>\n",
       "      <td>5.388</td>\n",
       "      <td>0.502</td>\n",
       "      <td>233.74</td>\n",
       "      <td>23.0</td>\n",
       "      <td>0.0</td>\n",
       "      <td>1.0</td>\n",
       "      <td>17.0</td>\n",
       "    </tr>\n",
       "    <tr>\n",
       "      <th>2006-12-16 17:28:00</th>\n",
       "      <td>3.666</td>\n",
       "      <td>0.528</td>\n",
       "      <td>235.68</td>\n",
       "      <td>15.8</td>\n",
       "      <td>0.0</td>\n",
       "      <td>1.0</td>\n",
       "      <td>17.0</td>\n",
       "    </tr>\n",
       "  </tbody>\n",
       "</table>\n",
       "</div>"
      ],
      "text/plain": [
       "                    Global_active_power Global_reactive_power Voltage  \\\n",
       "date                                                                    \n",
       "2006-12-16 17:24:00               4.216                 0.418  234.84   \n",
       "2006-12-16 17:25:00               5.360                 0.436  233.63   \n",
       "2006-12-16 17:26:00               5.374                 0.498  233.29   \n",
       "2006-12-16 17:27:00               5.388                 0.502  233.74   \n",
       "2006-12-16 17:28:00               3.666                 0.528  235.68   \n",
       "\n",
       "                    Global_intensity Sub_metering_1 Sub_metering_2  \\\n",
       "date                                                                 \n",
       "2006-12-16 17:24:00             18.4            0.0            1.0   \n",
       "2006-12-16 17:25:00             23.0            0.0            1.0   \n",
       "2006-12-16 17:26:00             23.0            0.0            2.0   \n",
       "2006-12-16 17:27:00             23.0            0.0            1.0   \n",
       "2006-12-16 17:28:00             15.8            0.0            1.0   \n",
       "\n",
       "                     Sub_metering_3  \n",
       "date                                 \n",
       "2006-12-16 17:24:00            17.0  \n",
       "2006-12-16 17:25:00            16.0  \n",
       "2006-12-16 17:26:00            17.0  \n",
       "2006-12-16 17:27:00            17.0  \n",
       "2006-12-16 17:28:00            17.0  "
      ]
     },
     "execution_count": 2,
     "metadata": {},
     "output_type": "execute_result"
    }
   ],
   "source": [
    "filepath = 'data/household_power_consumption.txt'\n",
    "df_powcon = pd.read_csv(filepath, sep=';',\n",
    "                        parse_dates={'date':['Date','Time']},\n",
    "                        infer_datetime_format=True,\n",
    "                        index_col='date')\n",
    "print(df_powcon.dtypes)\n",
    "df_powcon.head()"
   ]
  },
  {
   "cell_type": "code",
   "execution_count": 3,
   "metadata": {},
   "outputs": [
    {
     "name": "stdout",
     "output_type": "stream",
     "text": [
      "Global_active_power      float64\n",
      "Global_reactive_power    float64\n",
      "Voltage                  float64\n",
      "Global_intensity         float64\n",
      "Sub_metering_1           float64\n",
      "Sub_metering_2           float64\n",
      "Sub_metering_3           float64\n",
      "dtype: object\n"
     ]
    }
   ],
   "source": [
    "# change types to float (and all no number values to nan)\n",
    "for i in range(len(df_powcon.columns)):\n",
    "    df_powcon.iloc[:,i] = pd.to_numeric(df_powcon.iloc[:,i], errors='coerce')\n",
    "print(df_powcon.dtypes)"
   ]
  },
  {
   "cell_type": "code",
   "execution_count": 4,
   "metadata": {},
   "outputs": [
    {
     "name": "stdout",
     "output_type": "stream",
     "text": [
      "<class 'pandas.core.frame.DataFrame'>\n",
      "DatetimeIndex: 2075259 entries, 2006-12-16 17:24:00 to 2010-11-26 21:02:00\n",
      "Data columns (total 7 columns):\n",
      " #   Column                 Dtype  \n",
      "---  ------                 -----  \n",
      " 0   Global_active_power    float64\n",
      " 1   Global_reactive_power  float64\n",
      " 2   Voltage                float64\n",
      " 3   Global_intensity       float64\n",
      " 4   Sub_metering_1         float64\n",
      " 5   Sub_metering_2         float64\n",
      " 6   Sub_metering_3         float64\n",
      "dtypes: float64(7)\n",
      "memory usage: 126.7 MB\n"
     ]
    }
   ],
   "source": [
    "df_powcon.info()"
   ]
  },
  {
   "cell_type": "code",
   "execution_count": 5,
   "metadata": {},
   "outputs": [
    {
     "data": {
      "text/plain": [
       "Global_active_power      25979\n",
       "Global_reactive_power    25979\n",
       "Voltage                  25979\n",
       "Global_intensity         25979\n",
       "Sub_metering_1           25979\n",
       "Sub_metering_2           25979\n",
       "Sub_metering_3           25979\n",
       "dtype: int64"
      ]
     },
     "execution_count": 5,
     "metadata": {},
     "output_type": "execute_result"
    }
   ],
   "source": [
    "# check for missing values\n",
    "df_powcon.isnull().sum()"
   ]
  },
  {
   "cell_type": "code",
   "execution_count": 6,
   "metadata": {
    "scrolled": true
   },
   "outputs": [
    {
     "data": {
      "text/plain": [
       "Global_active_power      25979\n",
       "Global_reactive_power    25979\n",
       "Voltage                  25979\n",
       "Global_intensity         25979\n",
       "Sub_metering_1           25979\n",
       "Sub_metering_2           25979\n",
       "Sub_metering_3           25979\n",
       "dtype: int64"
      ]
     },
     "execution_count": 6,
     "metadata": {},
     "output_type": "execute_result"
    }
   ],
   "source": [
    "# drop missing values\n",
    "for j in range(len(df_powcon.columns)):\n",
    "    df_powcon.iloc[:,j]=df_powcon.iloc[:,j].fillna('NaN')\n",
    "    df_powcon.iloc[:,j].dropna(inplace=True)\n",
    "    df_powcon.iloc[:,j] = df_powcon.iloc[:,j].astype(float)\n",
    "df_powcon.isnull().sum()"
   ]
  },
  {
   "cell_type": "code",
   "execution_count": 7,
   "metadata": {
    "scrolled": true
   },
   "outputs": [
    {
     "name": "stdout",
     "output_type": "stream",
     "text": [
      "<class 'pandas.core.frame.DataFrame'>\n",
      "DatetimeIndex: 2075259 entries, 2006-12-16 17:24:00 to 2010-11-26 21:02:00\n",
      "Data columns (total 7 columns):\n",
      " #   Column                 Dtype  \n",
      "---  ------                 -----  \n",
      " 0   Global_active_power    float64\n",
      " 1   Global_reactive_power  float64\n",
      " 2   Voltage                float64\n",
      " 3   Global_intensity       float64\n",
      " 4   Sub_metering_1         float64\n",
      " 5   Sub_metering_2         float64\n",
      " 6   Sub_metering_3         float64\n",
      "dtypes: float64(7)\n",
      "memory usage: 126.7 MB\n"
     ]
    }
   ],
   "source": [
    "df_powcon.info()"
   ]
  },
  {
   "cell_type": "code",
   "execution_count": 8,
   "metadata": {},
   "outputs": [
    {
     "data": {
      "text/html": [
       "<div>\n",
       "<style scoped>\n",
       "    .dataframe tbody tr th:only-of-type {\n",
       "        vertical-align: middle;\n",
       "    }\n",
       "\n",
       "    .dataframe tbody tr th {\n",
       "        vertical-align: top;\n",
       "    }\n",
       "\n",
       "    .dataframe thead th {\n",
       "        text-align: right;\n",
       "    }\n",
       "</style>\n",
       "<table border=\"1\" class=\"dataframe\">\n",
       "  <thead>\n",
       "    <tr style=\"text-align: right;\">\n",
       "      <th></th>\n",
       "      <th>Global_active_power</th>\n",
       "      <th>Global_reactive_power</th>\n",
       "      <th>Voltage</th>\n",
       "      <th>Global_intensity</th>\n",
       "      <th>Sub_metering_1</th>\n",
       "      <th>Sub_metering_2</th>\n",
       "      <th>Sub_metering_3</th>\n",
       "    </tr>\n",
       "    <tr>\n",
       "      <th>date</th>\n",
       "      <th></th>\n",
       "      <th></th>\n",
       "      <th></th>\n",
       "      <th></th>\n",
       "      <th></th>\n",
       "      <th></th>\n",
       "      <th></th>\n",
       "    </tr>\n",
       "  </thead>\n",
       "  <tbody>\n",
       "    <tr>\n",
       "      <th>2006-12-16 17:00:00</th>\n",
       "      <td>4.222889</td>\n",
       "      <td>0.229000</td>\n",
       "      <td>234.643889</td>\n",
       "      <td>18.100000</td>\n",
       "      <td>0.0</td>\n",
       "      <td>0.527778</td>\n",
       "      <td>16.861111</td>\n",
       "    </tr>\n",
       "    <tr>\n",
       "      <th>2006-12-16 18:00:00</th>\n",
       "      <td>3.632200</td>\n",
       "      <td>0.080033</td>\n",
       "      <td>234.580167</td>\n",
       "      <td>15.600000</td>\n",
       "      <td>0.0</td>\n",
       "      <td>6.716667</td>\n",
       "      <td>16.866667</td>\n",
       "    </tr>\n",
       "    <tr>\n",
       "      <th>2006-12-16 19:00:00</th>\n",
       "      <td>3.400233</td>\n",
       "      <td>0.085233</td>\n",
       "      <td>233.232500</td>\n",
       "      <td>14.503333</td>\n",
       "      <td>0.0</td>\n",
       "      <td>1.433333</td>\n",
       "      <td>16.683333</td>\n",
       "    </tr>\n",
       "    <tr>\n",
       "      <th>2006-12-16 20:00:00</th>\n",
       "      <td>3.268567</td>\n",
       "      <td>0.075100</td>\n",
       "      <td>234.071500</td>\n",
       "      <td>13.916667</td>\n",
       "      <td>0.0</td>\n",
       "      <td>0.000000</td>\n",
       "      <td>16.783333</td>\n",
       "    </tr>\n",
       "    <tr>\n",
       "      <th>2006-12-16 21:00:00</th>\n",
       "      <td>3.056467</td>\n",
       "      <td>0.076667</td>\n",
       "      <td>237.158667</td>\n",
       "      <td>13.046667</td>\n",
       "      <td>0.0</td>\n",
       "      <td>0.416667</td>\n",
       "      <td>17.216667</td>\n",
       "    </tr>\n",
       "    <tr>\n",
       "      <th>...</th>\n",
       "      <td>...</td>\n",
       "      <td>...</td>\n",
       "      <td>...</td>\n",
       "      <td>...</td>\n",
       "      <td>...</td>\n",
       "      <td>...</td>\n",
       "      <td>...</td>\n",
       "    </tr>\n",
       "    <tr>\n",
       "      <th>2010-11-26 17:00:00</th>\n",
       "      <td>1.725900</td>\n",
       "      <td>0.061400</td>\n",
       "      <td>237.069667</td>\n",
       "      <td>7.216667</td>\n",
       "      <td>0.0</td>\n",
       "      <td>0.000000</td>\n",
       "      <td>12.866667</td>\n",
       "    </tr>\n",
       "    <tr>\n",
       "      <th>2010-11-26 18:00:00</th>\n",
       "      <td>1.573467</td>\n",
       "      <td>0.053700</td>\n",
       "      <td>237.531833</td>\n",
       "      <td>6.620000</td>\n",
       "      <td>0.0</td>\n",
       "      <td>0.000000</td>\n",
       "      <td>0.000000</td>\n",
       "    </tr>\n",
       "    <tr>\n",
       "      <th>2010-11-26 19:00:00</th>\n",
       "      <td>1.659333</td>\n",
       "      <td>0.060033</td>\n",
       "      <td>236.741000</td>\n",
       "      <td>7.056667</td>\n",
       "      <td>0.0</td>\n",
       "      <td>0.066667</td>\n",
       "      <td>0.000000</td>\n",
       "    </tr>\n",
       "    <tr>\n",
       "      <th>2010-11-26 20:00:00</th>\n",
       "      <td>1.163700</td>\n",
       "      <td>0.061167</td>\n",
       "      <td>239.396000</td>\n",
       "      <td>4.913333</td>\n",
       "      <td>0.0</td>\n",
       "      <td>1.066667</td>\n",
       "      <td>0.000000</td>\n",
       "    </tr>\n",
       "    <tr>\n",
       "      <th>2010-11-26 21:00:00</th>\n",
       "      <td>0.934667</td>\n",
       "      <td>0.000000</td>\n",
       "      <td>239.690000</td>\n",
       "      <td>3.800000</td>\n",
       "      <td>0.0</td>\n",
       "      <td>0.000000</td>\n",
       "      <td>0.000000</td>\n",
       "    </tr>\n",
       "  </tbody>\n",
       "</table>\n",
       "<p>34589 rows × 7 columns</p>\n",
       "</div>"
      ],
      "text/plain": [
       "                     Global_active_power  Global_reactive_power     Voltage  \\\n",
       "date                                                                          \n",
       "2006-12-16 17:00:00             4.222889               0.229000  234.643889   \n",
       "2006-12-16 18:00:00             3.632200               0.080033  234.580167   \n",
       "2006-12-16 19:00:00             3.400233               0.085233  233.232500   \n",
       "2006-12-16 20:00:00             3.268567               0.075100  234.071500   \n",
       "2006-12-16 21:00:00             3.056467               0.076667  237.158667   \n",
       "...                                  ...                    ...         ...   \n",
       "2010-11-26 17:00:00             1.725900               0.061400  237.069667   \n",
       "2010-11-26 18:00:00             1.573467               0.053700  237.531833   \n",
       "2010-11-26 19:00:00             1.659333               0.060033  236.741000   \n",
       "2010-11-26 20:00:00             1.163700               0.061167  239.396000   \n",
       "2010-11-26 21:00:00             0.934667               0.000000  239.690000   \n",
       "\n",
       "                     Global_intensity  Sub_metering_1  Sub_metering_2  \\\n",
       "date                                                                    \n",
       "2006-12-16 17:00:00         18.100000             0.0        0.527778   \n",
       "2006-12-16 18:00:00         15.600000             0.0        6.716667   \n",
       "2006-12-16 19:00:00         14.503333             0.0        1.433333   \n",
       "2006-12-16 20:00:00         13.916667             0.0        0.000000   \n",
       "2006-12-16 21:00:00         13.046667             0.0        0.416667   \n",
       "...                               ...             ...             ...   \n",
       "2010-11-26 17:00:00          7.216667             0.0        0.000000   \n",
       "2010-11-26 18:00:00          6.620000             0.0        0.000000   \n",
       "2010-11-26 19:00:00          7.056667             0.0        0.066667   \n",
       "2010-11-26 20:00:00          4.913333             0.0        1.066667   \n",
       "2010-11-26 21:00:00          3.800000             0.0        0.000000   \n",
       "\n",
       "                     Sub_metering_3  \n",
       "date                                 \n",
       "2006-12-16 17:00:00       16.861111  \n",
       "2006-12-16 18:00:00       16.866667  \n",
       "2006-12-16 19:00:00       16.683333  \n",
       "2006-12-16 20:00:00       16.783333  \n",
       "2006-12-16 21:00:00       17.216667  \n",
       "...                             ...  \n",
       "2010-11-26 17:00:00       12.866667  \n",
       "2010-11-26 18:00:00        0.000000  \n",
       "2010-11-26 19:00:00        0.000000  \n",
       "2010-11-26 20:00:00        0.000000  \n",
       "2010-11-26 21:00:00        0.000000  \n",
       "\n",
       "[34589 rows x 7 columns]"
      ]
     },
     "execution_count": 8,
     "metadata": {},
     "output_type": "execute_result"
    }
   ],
   "source": [
    "df_powcon.resample('h').mean()"
   ]
  },
  {
   "cell_type": "code",
   "execution_count": 19,
   "metadata": {
    "scrolled": true
   },
   "outputs": [
    {
     "data": {
      "text/plain": [
       "Global_active_power      421\n",
       "Global_reactive_power    421\n",
       "Voltage                  421\n",
       "Global_intensity         421\n",
       "Sub_metering_1           421\n",
       "Sub_metering_2           421\n",
       "Sub_metering_3           421\n",
       "dtype: int64"
      ]
     },
     "execution_count": 19,
     "metadata": {},
     "output_type": "execute_result"
    }
   ],
   "source": [
    "# resamble to hourly means\n",
    "df_powcon = df_powcon.resample('h').mean()\n",
    "\n",
    "df_powcon.isnull().sum()"
   ]
  },
  {
   "cell_type": "code",
   "execution_count": 21,
   "metadata": {},
   "outputs": [
    {
     "data": {
      "text/plain": [
       "Global_active_power      0\n",
       "Global_reactive_power    0\n",
       "Voltage                  0\n",
       "Global_intensity         0\n",
       "Sub_metering_1           0\n",
       "Sub_metering_2           0\n",
       "Sub_metering_3           0\n",
       "dtype: int64"
      ]
     },
     "execution_count": 21,
     "metadata": {},
     "output_type": "execute_result"
    }
   ],
   "source": [
    "for j in range(len(df_powcon.columns)):\n",
    "    df_powcon.iloc[:,j]=df_powcon.iloc[:,j].fillna('NaN')\n",
    "    df_powcon.iloc[:,j].dropna(inplace=True)\n",
    "df_powcon.isnull().sum()"
   ]
  },
  {
   "cell_type": "code",
   "execution_count": 9,
   "metadata": {},
   "outputs": [
    {
     "data": {
      "text/plain": [
       "(34589, 6)"
      ]
     },
     "execution_count": 9,
     "metadata": {},
     "output_type": "execute_result"
    }
   ],
   "source": [
    "# define features (X) and labels (y)\n",
    "y = df_powcon['Global_active_power'].values\n",
    "\n",
    "columns = ['Global_reactive_power', 'Voltage', 'Global_intensity', 'Sub_metering_1', 'Sub_metering_2', 'Sub_metering_3']\n",
    "X = np.zeros((len(columns), len(y)))\n",
    "X = df_powcon[columns].values\n",
    "X.shape"
   ]
  },
  {
   "cell_type": "code",
   "execution_count": 10,
   "metadata": {},
   "outputs": [
    {
     "data": {
      "text/plain": [
       "array([[2.29000000e-01, 2.34643889e+02, 1.81000000e+01, 0.00000000e+00,\n",
       "        5.27777778e-01, 1.68611111e+01],\n",
       "       [8.00333333e-02, 2.34580167e+02, 1.56000000e+01, 0.00000000e+00,\n",
       "        6.71666667e+00, 1.68666667e+01],\n",
       "       [8.52333333e-02, 2.33232500e+02, 1.45033333e+01, 0.00000000e+00,\n",
       "        1.43333333e+00, 1.66833333e+01],\n",
       "       ...,\n",
       "       [6.00333333e-02, 2.36741000e+02, 7.05666667e+00, 0.00000000e+00,\n",
       "        6.66666667e-02, 0.00000000e+00],\n",
       "       [6.11666667e-02, 2.39396000e+02, 4.91333333e+00, 0.00000000e+00,\n",
       "        1.06666667e+00, 0.00000000e+00],\n",
       "       [0.00000000e+00, 2.39690000e+02, 3.80000000e+00, 0.00000000e+00,\n",
       "        0.00000000e+00, 0.00000000e+00]])"
      ]
     },
     "execution_count": 10,
     "metadata": {},
     "output_type": "execute_result"
    }
   ],
   "source": [
    "X"
   ]
  },
  {
   "cell_type": "markdown",
   "metadata": {},
   "source": [
    "# Normalization"
   ]
  },
  {
   "cell_type": "code",
   "execution_count": 17,
   "metadata": {},
   "outputs": [
    {
     "name": "stdout",
     "output_type": "stream",
     "text": [
      "(20753, 6) (6918, 6) (6918, 6)\n",
      "[1.15914657e-01 2.40382181e+02 4.80091461e+00 1.20325332e+00\n",
      " 1.43981164e+00 6.13056661e+00]\n"
     ]
    }
   ],
   "source": [
    "# train - valid - test splits\n",
    "X_tmp, X_test, y_tmp, y_test = train_test_split(X, y, shuffle=False, test_size=.2)\n",
    "X_train, X_val, y_train, y_val = train_test_split(X_tmp, y_tmp, shuffle=False, test_size=.25)\n",
    "    \n",
    "print(X_train.shape, X_val.shape, X_test.shape)\n",
    "    \n",
    "# normalize each column\n",
    "scaler = StandardScaler()\n",
    "scaler.fit(X_train)\n",
    "print(scaler.mean_)\n",
    "X_train = scaler.transform(X_train)\n",
    "#for split in [X_train, X_val, X_test]:\n",
    "#    split = scaler.transform(split)\n",
    "    #split = split.reshape((split.shape[0], 1, split.shape[1]))\n",
    "X_train = X_train.reshape((X_train.shape[0], 1, X_train.shape[1]))\n",
    "X_val = X_val.reshape((X_val.shape[0], 1, X_val.shape[1]))\n",
    "X_test = X_test.reshape((X_test.shape[0], 1, X_test.shape[1]))"
   ]
  },
  {
   "cell_type": "code",
   "execution_count": 18,
   "metadata": {},
   "outputs": [
    {
     "data": {
      "text/plain": [
       "array([[[ 1.75197843e+00, -1.81974918e+00,  3.30019559e+00,\n",
       "         -3.23802614e-01, -1.97904756e-01,  1.46390511e+00]],\n",
       "\n",
       "       [[-5.55892605e-01, -1.83995702e+00,  2.67981541e+00,\n",
       "         -3.23802614e-01,  1.14503940e+00,  1.46466302e+00]],\n",
       "\n",
       "       [[-4.75331432e-01, -2.26733427e+00,  2.40767530e+00,\n",
       "         -3.23802614e-01, -1.40574600e-03,  1.43965193e+00]],\n",
       "\n",
       "       ...,\n",
       "\n",
       "       [[-6.89644809e-01, -9.58286771e-02,  9.84109588e-01,\n",
       "         -3.23802614e-01, -3.08812173e-01,  1.78980718e+00]],\n",
       "\n",
       "       [[-1.92334491e-01,  3.65586530e-01,  3.35605508e-01,\n",
       "         -3.23802614e-01, -1.96699241e-01,  1.68976282e+00]],\n",
       "\n",
       "       [[-9.11188034e-01,  4.64899151e-01,  1.70170794e-01,\n",
       "         -3.23802614e-01, -3.12428719e-01,  1.40099843e+00]]])"
      ]
     },
     "execution_count": 18,
     "metadata": {},
     "output_type": "execute_result"
    }
   ],
   "source": [
    "X_train"
   ]
  },
  {
   "cell_type": "code",
   "execution_count": null,
   "metadata": {},
   "outputs": [],
   "source": []
  }
 ],
 "metadata": {
  "kernelspec": {
   "display_name": "Python 3",
   "language": "python",
   "name": "python3"
  },
  "language_info": {
   "codemirror_mode": {
    "name": "ipython",
    "version": 3
   },
   "file_extension": ".py",
   "mimetype": "text/x-python",
   "name": "python",
   "nbconvert_exporter": "python",
   "pygments_lexer": "ipython3",
   "version": "3.7.9"
  }
 },
 "nbformat": 4,
 "nbformat_minor": 4
}
